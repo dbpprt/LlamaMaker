{
 "cells": [
  {
   "cell_type": "code",
   "execution_count": 7,
   "metadata": {},
   "outputs": [],
   "source": [
    "import json\n",
    "import os\n",
    "\n",
    "\n",
    "# Specify the folder path where your JSON files are located\n",
    "folder_path = \"../../resources/data/SwissText_2023_TS_DE/20min_0_00_000_220512/20min_all_test/\"\n",
    "\n",
    "# Initialize an empty list to store loaded JSON data\n",
    "json_data_list = []\n",
    "\n",
    "# Iterate through all files in the specified folder (assuming they're JSON files)\n",
    "for filename in os.listdir(folder_path):\n",
    "    # Check if the file is a JSON file\n",
    "    if filename.endswith(\".json\"):\n",
    "        # Load the JSON file\n",
    "        with open(os.path.join(folder_path, filename), \"r\") as f:\n",
    "            json_data = json.load(f)\n",
    "\n",
    "        # Append the loaded JSON data to our list\n",
    "        json_data_list.append(json_data)\n",
    "\n",
    "articles = []\n",
    "# Now you can iterate through your loaded JSON data list\n",
    "for json_data in json_data_list:\n",
    "    # Get the content dictionary\n",
    "    content_dict = json_data[\"content\"]\n",
    "\n",
    "    # Concatenate the content strings\n",
    "    content_string = \"\"\n",
    "    for key, value in content_dict.items():\n",
    "        content_string += value + \" \"\n",
    "\n",
    "    # Append the content string to our articles list\n",
    "    articles.append(content_string)"
   ]
  },
  {
   "cell_type": "code",
   "execution_count": 8,
   "metadata": {},
   "outputs": [
    {
     "data": {
      "text/html": [
       "<div>\n",
       "<style scoped>\n",
       "    .dataframe tbody tr th:only-of-type {\n",
       "        vertical-align: middle;\n",
       "    }\n",
       "\n",
       "    .dataframe tbody tr th {\n",
       "        vertical-align: top;\n",
       "    }\n",
       "\n",
       "    .dataframe thead th {\n",
       "        text-align: right;\n",
       "    }\n",
       "</style>\n",
       "<table border=\"1\" class=\"dataframe\">\n",
       "  <thead>\n",
       "    <tr style=\"text-align: right;\">\n",
       "      <th></th>\n",
       "      <th>article</th>\n",
       "    </tr>\n",
       "  </thead>\n",
       "  <tbody>\n",
       "    <tr>\n",
       "      <th>0</th>\n",
       "      <td>Rihanna, Elton John, Abba: Zahlreiche Stars ha...</td>\n",
       "    </tr>\n",
       "    <tr>\n",
       "      <th>1</th>\n",
       "      <td>Die US-Raumfahrtbehörde Nasa will den Planeten...</td>\n",
       "    </tr>\n",
       "    <tr>\n",
       "      <th>2</th>\n",
       "      <td>Bei der Zuger Polizei ging am vergangenen Frei...</td>\n",
       "    </tr>\n",
       "    <tr>\n",
       "      <th>3</th>\n",
       "      <td>Sie kamen aus dem Nichts. Von den beiden Tatve...</td>\n",
       "    </tr>\n",
       "    <tr>\n",
       "      <th>4</th>\n",
       "      <td>In zwei Proben von positiv getesteten Personen...</td>\n",
       "    </tr>\n",
       "  </tbody>\n",
       "</table>\n",
       "</div>"
      ],
      "text/plain": [
       "                                             article\n",
       "0  Rihanna, Elton John, Abba: Zahlreiche Stars ha...\n",
       "1  Die US-Raumfahrtbehörde Nasa will den Planeten...\n",
       "2  Bei der Zuger Polizei ging am vergangenen Frei...\n",
       "3  Sie kamen aus dem Nichts. Von den beiden Tatve...\n",
       "4  In zwei Proben von positiv getesteten Personen..."
      ]
     },
     "execution_count": 8,
     "metadata": {},
     "output_type": "execute_result"
    }
   ],
   "source": [
    "import pandas as pd\n",
    "\n",
    "\n",
    "df = pd.DataFrame(articles, columns=[\"article\"])\n",
    "\n",
    "df.head(5)"
   ]
  },
  {
   "cell_type": "code",
   "execution_count": 9,
   "metadata": {},
   "outputs": [
    {
     "name": "stdout",
     "output_type": "stream",
     "text": [
      "5136\n"
     ]
    }
   ],
   "source": [
    "print(len(df))"
   ]
  },
  {
   "cell_type": "code",
   "execution_count": 10,
   "metadata": {},
   "outputs": [],
   "source": [
    "df.to_csv(\"test.csv\", index=False)"
   ]
  }
 ],
 "metadata": {
  "kernelspec": {
   "display_name": "leanllm",
   "language": "python",
   "name": "python3"
  },
  "language_info": {
   "codemirror_mode": {
    "name": "ipython",
    "version": 3
   },
   "file_extension": ".py",
   "mimetype": "text/x-python",
   "name": "python",
   "nbconvert_exporter": "python",
   "pygments_lexer": "ipython3",
   "version": "3.10.14"
  }
 },
 "nbformat": 4,
 "nbformat_minor": 2
}
