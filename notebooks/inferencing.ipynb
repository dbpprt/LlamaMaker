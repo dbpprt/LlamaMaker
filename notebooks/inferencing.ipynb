{
 "cells": [
  {
   "cell_type": "code",
   "execution_count": 1,
   "metadata": {},
   "outputs": [],
   "source": [
    "import os\n",
    "import sys\n",
    "\n",
    "\n",
    "module_path = os.path.abspath(os.path.join(\"..\"))\n",
    "if module_path not in sys.path:\n",
    "    sys.path.append(module_path)"
   ]
  },
  {
   "cell_type": "code",
   "execution_count": null,
   "metadata": {},
   "outputs": [],
   "source": [
    "# TODO: https://github.com/noamgat/lm-format-enforcer"
   ]
  },
  {
   "cell_type": "code",
   "execution_count": 2,
   "metadata": {},
   "outputs": [],
   "source": [
    "if \"notebooks\" in os.getcwd():\n",
    "    os.chdir(\"..\")\n",
    "    # %cd \"..\""
   ]
  },
  {
   "cell_type": "code",
   "execution_count": 3,
   "metadata": {},
   "outputs": [
    {
     "name": "stderr",
     "output_type": "stream",
     "text": [
      "/home/ubuntu/miniforge3/envs/shopgpt/lib/python3.10/site-packages/tqdm/auto.py:21: TqdmWarning: IProgress not found. Please update jupyter and ipywidgets. See https://ipywidgets.readthedocs.io/en/stable/user_install.html\n",
      "  from .autonotebook import tqdm as notebook_tqdm\n"
     ]
    }
   ],
   "source": [
    "import torch\n",
    "from datasets import load_dataset\n",
    "from omegaconf import OmegaConf\n",
    "from transformers import AutoModelForCausalLM, AutoTokenizer, BitsAndBytesConfig\n",
    "\n",
    "import train"
   ]
  },
  {
   "cell_type": "code",
   "execution_count": 4,
   "metadata": {},
   "outputs": [],
   "source": [
    "model_path = \"./results/2024-04-10_12-41-01/checkpoint-10/\"\n",
    "data_config = \"./data/shopgpt/no_prompt_mistral.yaml\"\n",
    "\n",
    "use_gpu = True\n",
    "load_in_4_bit = True"
   ]
  },
  {
   "cell_type": "code",
   "execution_count": 5,
   "metadata": {},
   "outputs": [
    {
     "name": "stderr",
     "output_type": "stream",
     "text": [
      "Loading checkpoint shards: 100%|██████████| 4/4 [01:45<00:00, 26.28s/it]\n"
     ]
    }
   ],
   "source": [
    "model_kwargs = {}\n",
    "\n",
    "if load_in_4_bit:\n",
    "    quantization_config = BitsAndBytesConfig(\n",
    "        load_in_4bit=True,\n",
    "        bnb_4bit_compute_dtype=torch.bfloat16 if torch.cuda.is_bf16_supported() else torch.float16,\n",
    "        bnb_4bit_quant_type=\"nf4\",\n",
    "        bnb_4bit_use_double_quant=True,\n",
    "    )\n",
    "    model_kwargs = {**model_kwargs, \"quantization_config\": quantization_config}\n",
    "\n",
    "# model = outlines.models.transformers(\n",
    "#     model_path, device=\"cuda\" if use_gpu else \"cpu\", model_kwargs=model_kwargs if load_in_4_bit else {}\n",
    "# )\n",
    "\n",
    "model = AutoModelForCausalLM.from_pretrained(\n",
    "    pretrained_model_name_or_path=model_path,\n",
    "    device_map=\"cuda\" if use_gpu else \"cpu\",\n",
    "    trust_remote_code=True,\n",
    "    attn_implementation=\"flash_attention_2\",\n",
    "    # use_cache=not script_args.gradient_checkpointing,\n",
    "    **model_kwargs,\n",
    ")"
   ]
  },
  {
   "cell_type": "code",
   "execution_count": 6,
   "metadata": {},
   "outputs": [
    {
     "name": "stderr",
     "output_type": "stream",
     "text": [
      "You set `add_prefix_space`. The tokenizer needs to be converted from the slow tokenizers\n"
     ]
    },
    {
     "name": "stderr",
     "output_type": "stream",
     "text": [
      "Special tokens have been added in the vocabulary, make sure the associated word embeddings are fine-tuned or trained.\n"
     ]
    }
   ],
   "source": [
    "tokenizer = AutoTokenizer.from_pretrained(\n",
    "    model_path,\n",
    "    # padding_side=\"left\",\n",
    "    # add_eos_token=True,\n",
    "    add_bos_token=True,\n",
    ")"
   ]
  },
  {
   "cell_type": "code",
   "execution_count": 7,
   "metadata": {},
   "outputs": [],
   "source": [
    "data_config = OmegaConf.load(data_config)\n",
    "\n",
    "# json_grammar = outlines.grammars.json\n",
    "# generator = outlines.generate.cfg(model, json_grammar)"
   ]
  },
  {
   "cell_type": "code",
   "execution_count": 8,
   "metadata": {},
   "outputs": [],
   "source": [
    "formatting_func = train.formatting_func(data_config.prompt)\n",
    "\n",
    "\n",
    "def generate_prompt(prompt):\n",
    "    prompts = formatting_func(prompt)\n",
    "    # strip prompts at ```json\n",
    "    prompts = [prompt.split(\"```json\")[0] for prompt in prompts]\n",
    "    # ```json\n",
    "    return {\"text\": prompts}\n",
    "\n",
    "\n",
    "dataset = load_dataset(\n",
    "    data_config.dataset.type,\n",
    "    data_files={\"eval\": data_config.dataset.eval},\n",
    ")\n",
    "\n",
    "eval_dataset = dataset[\"eval\"].map(generate_prompt, batched=True, batch_size=8)"
   ]
  },
  {
   "cell_type": "code",
   "execution_count": 9,
   "metadata": {},
   "outputs": [
    {
     "data": {
      "text/plain": [
       "\"<|im_start|>system You're an e-commerce product expert and understand JSON.<|im_end|> <|im_start|>user {'Produkttyp': 'Schlauchbox', 'Schlauchlänge': '15 m', 'Einsatzbereich': 'Garten', 'Farbe': 'weiß', 'Ausstattung': ['Schlauchverbinder', 'Anschlussschlauch', 'Schlauch', 'Wasserstop']} {'Produkttyp': 'Schlauchbox', 'Schlauchlänge': '20 m', 'Einsatzbereich': 'Garten', 'Farbe': 'weiß', 'Ausstattung': ['Schlauchverbinder', 'Anschlussschlauch', 'Schlauch', 'Wasserstop']} {'Produkttyp': 'Schlauchbox', 'Schlauchlänge': '20 m', 'Einsatzbereich': 'Garten', 'Ausstattung': ['Schlauchverbinder', 'Anschlussschlauch', 'Schlauch', 'Wasserstop']} <|im_end|> <|im_start|>assistant \""
      ]
     },
     "execution_count": 9,
     "metadata": {},
     "output_type": "execute_result"
    }
   ],
   "source": [
    "eval_dataset[0][\"text\"]"
   ]
  },
  {
   "cell_type": "code",
   "execution_count": 10,
   "metadata": {},
   "outputs": [
    {
     "name": "stdout",
     "output_type": "stream",
     "text": [
      "['<|im_start|> system You\\'re an e-commerce product expert and understand JSON.  <|im_start|> user {\\'Produkttyp\\': \\'Schlauchbox\\', \\'Schlauchlänge\\': \\'15 m\\', \\'Einsatzbereich\\': \\'Garten\\', \\'Farbe\\': \\'weiß\\', \\'Ausstattung\\': [\\'Schlauchverbinder\\', \\'Anschlussschlauch\\', \\'Schlauch\\', \\'Wasserstop\\']} {\\'Produkttyp\\': \\'Schlauchbox\\', \\'Schlauchlänge\\': \\'20 m\\', \\'Einsatzbereich\\': \\'Garten\\', \\'Farbe\\': \\'weiß\\', \\'Ausstattung\\': [\\'Schlauchverbinder\\', \\'Anschlussschlauch\\', \\'Schlauch\\', \\'Wasserstop\\']} {\\'Produkttyp\\': \\'Schlauchbox\\', \\'Schlauchlänge\\': \\'20 m\\', \\'Einsatzbereich\\': \\'Garten\\', \\'Ausstattung\\': [\\'Schlauchverbinder\\', \\'Anschlussschlauch\\', \\'Schlauch\\', \\'Wasserstop\\']}   <|im_start|> assistant 1. {\\'Produkttyp\\': \\'Schlauchbox\\', \\'Schlauchlänge\\': \\'15 m\\', \\'Einsatzbereich\\': \\'Garten\\', \\'Farbe\\': \\'weiß\\', \\'Ausstattung\\': [\\'Schlauchverbinder\\', \\'Anschlussschlauch\\', \\'Schlauch\\', \\'Wasserstop\\']}\\n `{\\n  \"Produkttyp\": \"Schlauchbox\",\\n  \"Schlauchlaenge\": \"15 m\",\\n  \"Einsatzbereich\": \"Garten\",\\n  \"Farbe\": \"weiß\",\\n  \"Ausstattung\": [\\n    \"Schlauchverbinder\",\\n    \"Anschlussschlauch\",\\n    \"Schlauch\",\\n    \"Wasserstop\"\\n  ]\\n}`\\n\\n2. {\\'Produkttyp\\': \\'Schlauchbox\\', \\'Schlauchlänge\\': \\'20 m\\', \\'Einsatzbereich\\': \\'Garten\\', \\'Farbe\\': \\'weiß\\', \\'Ausstattung\\': [\\'Schlauchverbinder\\', \\'Anschlussschlauch\\', \\'Schlauch\\', \\'Wasserstop\\']}\\n`{\\n  \"Produkttyp\": \"Schlauchbox\",\\n  \"Schlauchlaenge\": \"20 m\",\\n  \"Einsatzbereich\": \"Garten\",\\n  \"Farbe\": \"weiß\",\\n  \"Ausstattung\": [\\n    \"Schlauchverbinder\",\\n    \"Anschlussschlauch\",\\n    \"Schlauch\",\\n    \"Wasserstop\"\\n  ]\\n}`\\n3. {\\'Produkttyp\\': \\'Schlauchbox\\', \\'Schlauchlänge\\': \\'20 m\\', \\'Einsatzbereich\\': \\'Garten\\', \\'Ausstattung\\': [\\'Schlauchverbinder\\', \\'Anschlussschlauch\\', \\'Schlauch\\', \\'Wasserstop\\']}\\n`{\\n  \"Produkttyp\": \"Schlauchbox\",\\n  \"Schlauchlaenge\": \"20 m\",\\n  \"Einsatzbereich\": \"Garten\",\\n  \"Ausstattung\": [\\n    \"Schlauchverbinder\",\\n    \"Anschlussschlauch\",\\n    \"Schlauch\",\\n    \"Wasserstop\"\\n  ]\\n}`']\n"
     ]
    }
   ],
   "source": [
    "model.eval()\n",
    "\n",
    "inputs = tokenizer(\n",
    "    eval_dataset[0][\"text\"],\n",
    "    return_tensors=\"pt\",\n",
    ")\n",
    "\n",
    "if use_gpu:\n",
    "    inputs = inputs.to(\"cuda\")\n",
    "\n",
    "with torch.no_grad():\n",
    "    outputs = model.generate(\n",
    "        **inputs,\n",
    "        # do_sample=True,\n",
    "        # temperature=1,\n",
    "        max_new_tokens=1024,\n",
    "        pad_token_id=tokenizer.unk_token_id,\n",
    "    )\n",
    "\n",
    "    print(\n",
    "        tokenizer.batch_decode(\n",
    "            outputs.detach().cpu().numpy(),\n",
    "            skip_special_tokens=True,\n",
    "        )\n",
    "    )"
   ]
  },
  {
   "cell_type": "code",
   "execution_count": 11,
   "metadata": {},
   "outputs": [],
   "source": [
    "# sequence = generator(eval_dataset[0][\"text\"])\n",
    "# print(sequence)"
   ]
  },
  {
   "cell_type": "markdown",
   "metadata": {},
   "source": []
  },
  {
   "cell_type": "code",
   "execution_count": 12,
   "metadata": {},
   "outputs": [
    {
     "data": {
      "text/plain": [
       "\"<|im_start|>system You're an e-commerce product expert and understand JSON.<|im_end|> <|im_start|>user {'Produkttyp': 'Schlauchbox', 'Schlauchlänge': '15 m', 'Einsatzbereich': 'Garten', 'Farbe': 'weiß', 'Ausstattung': ['Schlauchverbinder', 'Anschlussschlauch', 'Schlauch', 'Wasserstop']} {'Produkttyp': 'Schlauchbox', 'Schlauchlänge': '20 m', 'Einsatzbereich': 'Garten', 'Farbe': 'weiß', 'Ausstattung': ['Schlauchverbinder', 'Anschlussschlauch', 'Schlauch', 'Wasserstop']} {'Produkttyp': 'Schlauchbox', 'Schlauchlänge': '20 m', 'Einsatzbereich': 'Garten', 'Ausstattung': ['Schlauchverbinder', 'Anschlussschlauch', 'Schlauch', 'Wasserstop']} <|im_end|> <|im_start|>assistant \""
      ]
     },
     "execution_count": 12,
     "metadata": {},
     "output_type": "execute_result"
    }
   ],
   "source": [
    "eval_dataset[0][\"text\"]"
   ]
  }
 ],
 "metadata": {
  "kernelspec": {
   "display_name": "shopgpt",
   "language": "python",
   "name": "python3"
  },
  "language_info": {
   "codemirror_mode": {
    "name": "ipython",
    "version": 3
   },
   "file_extension": ".py",
   "mimetype": "text/x-python",
   "name": "python",
   "nbconvert_exporter": "python",
   "pygments_lexer": "ipython3",
   "version": "3.10.13"
  }
 },
 "nbformat": 4,
 "nbformat_minor": 2
}
